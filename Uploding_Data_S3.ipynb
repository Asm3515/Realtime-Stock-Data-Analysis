{
  "nbformat": 4,
  "nbformat_minor": 0,
  "metadata": {
    "colab": {
      "provenance": [],
      "authorship_tag": "ABX9TyPnI69N+4ZFQwtwAGv3G9Rv",
      "include_colab_link": true
    },
    "kernelspec": {
      "name": "python3",
      "display_name": "Python 3"
    },
    "language_info": {
      "name": "python"
    }
  },
  "cells": [
    {
      "cell_type": "markdown",
      "metadata": {
        "id": "view-in-github",
        "colab_type": "text"
      },
      "source": [
        "<a href=\"https://colab.research.google.com/github/Asm3515/Realtime-Stock-Data-Analysis/blob/main/Uploding_Data_S3.ipynb\" target=\"_parent\"><img src=\"https://colab.research.google.com/assets/colab-badge.svg\" alt=\"Open In Colab\"/></a>"
      ]
    },
    {
      "cell_type": "code",
      "execution_count": 1,
      "metadata": {
        "id": "ecgHPJ6LP6LT",
        "colab": {
          "base_uri": "https://localhost:8080/"
        },
        "outputId": "49ef20ac-f295-420d-ccfa-1b60c74885c7"
      },
      "outputs": [
        {
          "output_type": "stream",
          "name": "stdout",
          "text": [
            "Collecting boto3\n",
            "  Downloading boto3-1.34.59-py3-none-any.whl (139 kB)\n",
            "\u001b[2K     \u001b[90m━━━━━━━━━━━━━━━━━━━━━━━━━━━━━━━━━━━━━━━━\u001b[0m \u001b[32m139.3/139.3 kB\u001b[0m \u001b[31m4.1 MB/s\u001b[0m eta \u001b[36m0:00:00\u001b[0m\n",
            "\u001b[?25hCollecting botocore<1.35.0,>=1.34.59 (from boto3)\n",
            "  Downloading botocore-1.34.59-py3-none-any.whl (12.0 MB)\n",
            "\u001b[2K     \u001b[90m━━━━━━━━━━━━━━━━━━━━━━━━━━━━━━━━━━━━━━━━\u001b[0m \u001b[32m12.0/12.0 MB\u001b[0m \u001b[31m35.1 MB/s\u001b[0m eta \u001b[36m0:00:00\u001b[0m\n",
            "\u001b[?25hCollecting jmespath<2.0.0,>=0.7.1 (from boto3)\n",
            "  Downloading jmespath-1.0.1-py3-none-any.whl (20 kB)\n",
            "Collecting s3transfer<0.11.0,>=0.10.0 (from boto3)\n",
            "  Downloading s3transfer-0.10.0-py3-none-any.whl (82 kB)\n",
            "\u001b[2K     \u001b[90m━━━━━━━━━━━━━━━━━━━━━━━━━━━━━━━━━━━━━━━━\u001b[0m \u001b[32m82.1/82.1 kB\u001b[0m \u001b[31m8.3 MB/s\u001b[0m eta \u001b[36m0:00:00\u001b[0m\n",
            "\u001b[?25hRequirement already satisfied: python-dateutil<3.0.0,>=2.1 in /usr/local/lib/python3.10/dist-packages (from botocore<1.35.0,>=1.34.59->boto3) (2.8.2)\n",
            "Requirement already satisfied: urllib3<2.1,>=1.25.4 in /usr/local/lib/python3.10/dist-packages (from botocore<1.35.0,>=1.34.59->boto3) (2.0.7)\n",
            "Requirement already satisfied: six>=1.5 in /usr/local/lib/python3.10/dist-packages (from python-dateutil<3.0.0,>=2.1->botocore<1.35.0,>=1.34.59->boto3) (1.16.0)\n",
            "Installing collected packages: jmespath, botocore, s3transfer, boto3\n",
            "Successfully installed boto3-1.34.59 botocore-1.34.59 jmespath-1.0.1 s3transfer-0.10.0\n"
          ]
        }
      ],
      "source": [
        "!pip install boto3\n"
      ]
    },
    {
      "cell_type": "code",
      "source": [
        "import boto3\n",
        "\n",
        "\n",
        "s3 = boto3.resource(\n",
        "    service_name='s3',\n",
        "    aws_access_key_id='',\n",
        "    aws_secret_access_key='',\n",
        "    region_name='us-west-2'\n",
        ")\n",
        "\n"
      ],
      "metadata": {
        "id": "upNcyOqmSp5J"
      },
      "execution_count": 2,
      "outputs": []
    },
    {
      "cell_type": "code",
      "source": [
        "for bucket in s3.buckets.all():\n",
        "  print(bucket.name)"
      ],
      "metadata": {
        "colab": {
          "base_uri": "https://localhost:8080/"
        },
        "id": "J0VDp4JqTXoO",
        "outputId": "bf431868-4c83-481a-ba5f-b712b4bf54f5"
      },
      "execution_count": 3,
      "outputs": [
        {
          "output_type": "stream",
          "name": "stdout",
          "text": [
            "real-time-stock-data-project\n"
          ]
        }
      ]
    },
    {
      "cell_type": "code",
      "source": [
        "import requests\n",
        "import pandas as pd\n",
        "import time\n",
        "from datetime import datetime\n",
        "import csv\n",
        "\n",
        "url = \"https://65b1-34-91-163-27.ngrok-free.app/stock_data/TSLA\"\n",
        "\n",
        "# Create an empty DataFrame to store the data\n",
        "df = pd.DataFrame(columns=['Attribute', 'Value'])\n",
        "\n",
        "while True:\n",
        "    response = requests.get(url)\n",
        "    if response.status_code == 200:\n",
        "        json_data = response.json()\n",
        "\n",
        "        csv_data = [['Attribute', 'Value']]\n",
        "        for key, value in json_data.items():\n",
        "            csv_data.append([key, value])\n",
        "        current_datetime = datetime.now().strftime('%Y%m%d%H%M%S')\n",
        "        file_name = f'stock_data_{current_datetime}.csv'\n",
        "\n",
        "        # Write CSV data to a file\n",
        "        with open(file_name, 'w', newline='') as csv_file:\n",
        "            writer = csv.writer(csv_file)\n",
        "            writer.writerow(['Attribute', 'Value'])  # Header\n",
        "            for index, row in csv_data.iterrows():\n",
        "                writer.writerow([row['Attribute'], row['Value']])\n",
        "\n",
        "        # Upload CSV file to Amazon S3 bucket\n",
        "        bucket_name = 'real-time-stock-data-project'\n",
        "        s3.Bucket(bucket_name).upload_file(Filename=file_name, Key=file_name)\n",
        "\n",
        "        print(f'CSV file \"{file_name}\" uploaded to S3 bucket \"{bucket_name}\"')\n",
        "\n",
        "        print(\"Data saved successfully.\")\n",
        "    else:\n",
        "        print(\"Failed to fetch data:\", response.status_code)\n",
        "\n",
        "    # Wait for 10 seconds before repeating the action\n",
        "    time.sleep(10)\n"
      ],
      "metadata": {
        "colab": {
          "base_uri": "https://localhost:8080/",
          "height": 349
        },
        "id": "B-gB9ssCVpL5",
        "outputId": "416d606a-360f-4693-d270-42a12824214e"
      },
      "execution_count": 5,
      "outputs": [
        {
          "output_type": "stream",
          "name": "stdout",
          "text": [
            "CSV file \"stock_data_20240310220621.csv\" uploaded to S3 bucket \"real-time-stock-data-project\"\n",
            "Data saved successfully.\n",
            "CSV file \"stock_data_20240310220633.csv\" uploaded to S3 bucket \"real-time-stock-data-project\"\n",
            "Data saved successfully.\n",
            "CSV file \"stock_data_20240310220644.csv\" uploaded to S3 bucket \"real-time-stock-data-project\"\n",
            "Data saved successfully.\n",
            "CSV file \"stock_data_20240310220656.csv\" uploaded to S3 bucket \"real-time-stock-data-project\"\n",
            "Data saved successfully.\n",
            "CSV file \"stock_data_20240310220707.csv\" uploaded to S3 bucket \"real-time-stock-data-project\"\n",
            "Data saved successfully.\n"
          ]
        },
        {
          "output_type": "error",
          "ename": "KeyboardInterrupt",
          "evalue": "",
          "traceback": [
            "\u001b[0;31m---------------------------------------------------------------------------\u001b[0m",
            "\u001b[0;31mKeyboardInterrupt\u001b[0m                         Traceback (most recent call last)",
            "\u001b[0;32m<ipython-input-5-e43c42fd7e01>\u001b[0m in \u001b[0;36m<cell line: 12>\u001b[0;34m()\u001b[0m\n\u001b[1;32m     39\u001b[0m \u001b[0;34m\u001b[0m\u001b[0m\n\u001b[1;32m     40\u001b[0m     \u001b[0;31m# Wait for 10 seconds before repeating the action\u001b[0m\u001b[0;34m\u001b[0m\u001b[0;34m\u001b[0m\u001b[0m\n\u001b[0;32m---> 41\u001b[0;31m     \u001b[0mtime\u001b[0m\u001b[0;34m.\u001b[0m\u001b[0msleep\u001b[0m\u001b[0;34m(\u001b[0m\u001b[0;36m10\u001b[0m\u001b[0;34m)\u001b[0m\u001b[0;34m\u001b[0m\u001b[0;34m\u001b[0m\u001b[0m\n\u001b[0m",
            "\u001b[0;31mKeyboardInterrupt\u001b[0m: "
          ]
        }
      ]
    }
  ]
}