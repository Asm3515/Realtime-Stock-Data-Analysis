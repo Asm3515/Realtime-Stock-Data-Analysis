{
  "nbformat": 4,
  "nbformat_minor": 0,
  "metadata": {
    "colab": {
      "provenance": [],
      "authorship_tag": "ABX9TyPRS8DrKyoHDN7w4CgmXp6G",
      "include_colab_link": true
    },
    "kernelspec": {
      "name": "python3",
      "display_name": "Python 3"
    },
    "language_info": {
      "name": "python"
    }
  },
  "cells": [
    {
      "cell_type": "markdown",
      "metadata": {
        "id": "view-in-github",
        "colab_type": "text"
      },
      "source": [
        "<a href=\"https://colab.research.google.com/github/Asm3515/Realtime-Stock-Data-Analysis/blob/main/Webscraping_Data_Analytics__Project.ipynb\" target=\"_parent\"><img src=\"https://colab.research.google.com/assets/colab-badge.svg\" alt=\"Open In Colab\"/></a>"
      ]
    },
    {
      "cell_type": "code",
      "execution_count": 34,
      "metadata": {
        "colab": {
          "base_uri": "https://localhost:8080/"
        },
        "id": "97GAFilPrfmv",
        "outputId": "01d0818c-8eb3-4e81-a68b-5b8117ec83fe"
      },
      "outputs": [
        {
          "output_type": "stream",
          "name": "stdout",
          "text": [
            "Collecting pyngrok\n",
            "  Downloading pyngrok-7.1.4-py3-none-any.whl (22 kB)\n",
            "Requirement already satisfied: PyYAML>=5.1 in /usr/local/lib/python3.10/dist-packages (from pyngrok) (6.0.1)\n",
            "Installing collected packages: pyngrok\n",
            "Successfully installed pyngrok-7.1.4\n"
          ]
        }
      ],
      "source": [
        "#!pip install bs4\n",
        "!pip install pyngrok\n",
        "Tesla_url = 'https://www.google.com/finance/quote/TSLA:NASDAQ?hl=en'"
      ]
    },
    {
      "cell_type": "code",
      "source": [
        "import requests\n",
        "from bs4 import BeautifulSoup\n",
        "import time\n",
        "import json\n"
      ],
      "metadata": {
        "id": "EYEXXQugsQ2c"
      },
      "execution_count": 18,
      "outputs": []
    },
    {
      "cell_type": "code",
      "source": [
        "response = requests.get(Tesla_url)\n",
        "\n",
        "if response.status_code == 200:\n",
        "    soup = BeautifulSoup(response.text, 'html.parser')\n",
        "\n",
        "    data = {}\n",
        "    for div in soup.find_all('div', class_='gyFHrc'):\n",
        "        key = div.find('div', class_='mfs7Fc').text.strip()\n",
        "        value = div.find('div', class_='P6K39c').text.strip()\n",
        "        data[key] = value\n",
        "\n",
        "    current_price = soup.find('div', class_='YMlKec fxKbKc').text.strip()\n",
        "    date_time = soup.find('div', class_='ygUjEc').text.strip().split('·')[0].strip()\n",
        "\n",
        "    data['Current Stock Price'] = current_price\n",
        "    data['Date Time'] = date_time\n",
        "\n",
        "    # Print the JSON data\n",
        "    print(json.dumps(data, indent=4))\n",
        "else:\n",
        "    print(\"Failed to fetch data from the URL.\")\n"
      ],
      "metadata": {
        "colab": {
          "base_uri": "https://localhost:8080/"
        },
        "id": "AtTiCCV1seiN",
        "outputId": "bc4a2517-101c-4ebe-f409-7538b1653f52"
      },
      "execution_count": 41,
      "outputs": [
        {
          "output_type": "stream",
          "name": "stdout",
          "text": [
            "{\n",
            "    \"Previous close\": \"$176.54\",\n",
            "    \"Day range\": \"$173.70 - $179.78\",\n",
            "    \"Year range\": \"$152.37 - $299.29\",\n",
            "    \"Market cap\": \"554.52B USD\",\n",
            "    \"Avg Volume\": \"107.71M\",\n",
            "    \"P/E ratio\": \"41.12\",\n",
            "    \"Dividend yield\": \"-\",\n",
            "    \"Primary exchange\": \"NASDAQ\",\n",
            "    \"CEO\": \"Elon Musk\",\n",
            "    \"Founded\": \"Jul 1, 2003\",\n",
            "    \"Website\": \"tesla.com\",\n",
            "    \"Employees\": \"140,473\",\n",
            "    \"Current Stock Price\": \"$176.91\",\n",
            "    \"Date Time\": \"Mar 7, 11:58:55\\u202fAM GMT-5\"\n",
            "}\n"
          ]
        }
      ]
    },
    {
      "cell_type": "code",
      "source": [
        "!pip install flask"
      ],
      "metadata": {
        "colab": {
          "base_uri": "https://localhost:8080/"
        },
        "id": "NsKy73d805QA",
        "outputId": "7b2e1eda-fb63-47c4-d006-2dc551b2ec54"
      },
      "execution_count": 28,
      "outputs": [
        {
          "output_type": "stream",
          "name": "stdout",
          "text": [
            "Requirement already satisfied: flask in /usr/local/lib/python3.10/dist-packages (2.2.5)\n",
            "Requirement already satisfied: Werkzeug>=2.2.2 in /usr/local/lib/python3.10/dist-packages (from flask) (3.0.1)\n",
            "Requirement already satisfied: Jinja2>=3.0 in /usr/local/lib/python3.10/dist-packages (from flask) (3.1.3)\n",
            "Requirement already satisfied: itsdangerous>=2.0 in /usr/local/lib/python3.10/dist-packages (from flask) (2.1.2)\n",
            "Requirement already satisfied: click>=8.0 in /usr/local/lib/python3.10/dist-packages (from flask) (8.1.7)\n",
            "Requirement already satisfied: MarkupSafe>=2.0 in /usr/local/lib/python3.10/dist-packages (from Jinja2>=3.0->flask) (2.1.5)\n"
          ]
        }
      ]
    },
    {
      "cell_type": "code",
      "source": [
        "from flask import Flask, jsonify\n",
        "import requests\n",
        "from bs4 import BeautifulSoup\n",
        "\n",
        "app = Flask(__name__)\n",
        "\n",
        "\n",
        "@app.route('/tesla_data', methods=['GET'])\n",
        "def get_tesla_data():\n",
        "    response = requests.get(Tesla_url)\n",
        "    if response.status_code == 200:\n",
        "        soup = BeautifulSoup(response.text, 'html.parser')\n",
        "\n",
        "        data = {}\n",
        "        for div in soup.find_all('div', class_='gyFHrc'):\n",
        "            key = div.find('div', class_='mfs7Fc').text.strip()\n",
        "            value = div.find('div', class_='P6K39c').text.strip()\n",
        "            data[key] = value\n",
        "\n",
        "        current_price = soup.find('div', class_='YMlKec fxKbKc').text.strip()\n",
        "        date_time = soup.find('div', class_='ygUjEc').text.strip().split('·')[0].strip()\n",
        "        data['Current Stock Price'] = current_price\n",
        "        data['Date Time'] = date_time\n",
        "\n",
        "        return jsonify(data)\n",
        "    else:\n",
        "        return jsonify({'error': 'Failed to fetch data from the URL'}), 500\n",
        "\n",
        "if __name__ == '__main__':\n",
        "    app.run(debug=True)\n"
      ],
      "metadata": {
        "colab": {
          "base_uri": "https://localhost:8080/"
        },
        "id": "7cXU3ah-0-K9",
        "outputId": "e71a7fb5-1ea8-4bca-9091-76cbf6545f36"
      },
      "execution_count": 43,
      "outputs": [
        {
          "output_type": "stream",
          "name": "stdout",
          "text": [
            " * Serving Flask app '__main__'\n",
            " * Debug mode: on\n"
          ]
        },
        {
          "output_type": "stream",
          "name": "stderr",
          "text": [
            "INFO:werkzeug:\u001b[31m\u001b[1mWARNING: This is a development server. Do not use it in a production deployment. Use a production WSGI server instead.\u001b[0m\n",
            " * Running on http://127.0.0.1:5000\n",
            "INFO:werkzeug:\u001b[33mPress CTRL+C to quit\u001b[0m\n",
            "INFO:werkzeug: * Restarting with stat\n"
          ]
        }
      ]
    },
    {
      "cell_type": "code",
      "source": [],
      "metadata": {
        "id": "KtpNX1kl1yxu"
      },
      "execution_count": 43,
      "outputs": []
    }
  ]
}