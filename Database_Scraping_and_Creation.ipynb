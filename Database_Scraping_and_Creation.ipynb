{
  "nbformat": 4,
  "nbformat_minor": 0,
  "metadata": {
    "colab": {
      "provenance": [],
      "authorship_tag": "ABX9TyNr3f6VPYyuGO9GcTVqUo+W",
      "include_colab_link": true
    },
    "kernelspec": {
      "name": "python3",
      "display_name": "Python 3"
    },
    "language_info": {
      "name": "python"
    }
  },
  "cells": [
    {
      "cell_type": "markdown",
      "metadata": {
        "id": "view-in-github",
        "colab_type": "text"
      },
      "source": [
        "<a href=\"https://colab.research.google.com/github/Asm3515/Realtime-Stock-Data-Analysis/blob/main/Database_Scraping_and_Creation.ipynb\" target=\"_parent\"><img src=\"https://colab.research.google.com/assets/colab-badge.svg\" alt=\"Open In Colab\"/></a>"
      ]
    },
    {
      "cell_type": "code",
      "execution_count": 2,
      "metadata": {
        "id": "cwNgkzzC0byj"
      },
      "outputs": [],
      "source": [
        "#!pip install bs4\n",
        "#!pip install pyngrok\n",
        "SP500_INFO_url = \"https://www.msn.com/en-us/money/watchlist?tab=Related&id=a33k6h&ocid=ansMSNMoney11&duration=1D&src=b_secdans&relatedQuoteId=a33k6h&relatedSource=MlAl\"\n",
        "NASDAQ_INFO_url = \"https://www.msn.com/en-us/money/watchlist?tab=Related&id=a3oxnm&ocid=ansMSNMoney11&duration=1D&src=b_secdans&relatedQuoteId=a33k6h&relatedSource=MlAl\"\n",
        "\n",
        "\n",
        "import requests\n",
        "\n",
        "\n",
        "SP500_realtime_url = \"https://www.google.com/finance/quote/.INX:INDEXSP\"\n",
        "NASDAQ_realtime_url = \"https://www.google.com/finance/quote/.IXIC:INDEXNASDAQ\""
      ]
    },
    {
      "cell_type": "code",
      "source": [
        "response_info_SP500  = requests.get(SP500_INFO_url)\n",
        "response_info_NASDAQ = requests.get(NASDAQ_INFO_url)\n",
        "\n",
        "\n",
        "response_realtime_SP500 = requests.get(SP500_realtime_url)\n",
        "response_realtime_NASDAQ = requests.get(NASDAQ_realtime_url)"
      ],
      "metadata": {
        "id": "hFZsGU9IHWHu"
      },
      "execution_count": 7,
      "outputs": []
    },
    {
      "cell_type": "code",
      "source": [
        "from bs4 import BeautifulSoup\n",
        "soup = BeautifulSoup(response_realtime_NASDAQ.text, 'html.parser')"
      ],
      "metadata": {
        "id": "nvWsspjuIK3c"
      },
      "execution_count": 20,
      "outputs": []
    },
    {
      "cell_type": "code",
      "source": [
        "import yfinance as yf\n",
        "import pandas as pd\n",
        "import time\n",
        "tickers = ['^GSPC']\n",
        "interval = '1m'\n",
        "\n",
        "while True:\n",
        "    try:\n",
        "        data = yf.download(tickers, period=\"1d\", interval=interval)\n",
        "        latest_values = data.iloc[-1]\n",
        "        print(latest_values)\n",
        "        time.sleep(60)\n",
        "    except Exception as e:\n",
        "        print(\"An error occurred:\", e)\n",
        "        # If there's an error fetching data, wait for 10 seconds before retrying\n",
        "        time.sleep(10)\n"
      ],
      "metadata": {
        "colab": {
          "base_uri": "https://localhost:8080/",
          "height": 509
        },
        "id": "Asiwz-ZQOJ-k",
        "outputId": "656ad3ad-7fe0-4457-b456-a0f040e15ca8"
      },
      "execution_count": 15,
      "outputs": [
        {
          "output_type": "stream",
          "name": "stderr",
          "text": [
            "\r[*********************100%%**********************]  1 of 1 completed\n"
          ]
        },
        {
          "output_type": "stream",
          "name": "stdout",
          "text": [
            "Open         5.239220e+03\n",
            "High         5.239220e+03\n",
            "Low          5.233860e+03\n",
            "Close        5.234270e+03\n",
            "Adj Close    5.234270e+03\n",
            "Volume       5.221900e+07\n",
            "Name: 2024-03-22 15:59:00-04:00, dtype: float64\n"
          ]
        },
        {
          "output_type": "stream",
          "name": "stderr",
          "text": [
            "\r[*********************100%%**********************]  1 of 1 completed\n"
          ]
        },
        {
          "output_type": "stream",
          "name": "stdout",
          "text": [
            "Open         5.239220e+03\n",
            "High         5.239220e+03\n",
            "Low          5.233860e+03\n",
            "Close        5.234270e+03\n",
            "Adj Close    5.234270e+03\n",
            "Volume       5.221900e+07\n",
            "Name: 2024-03-22 15:59:00-04:00, dtype: float64\n"
          ]
        },
        {
          "output_type": "error",
          "ename": "KeyboardInterrupt",
          "evalue": "",
          "traceback": [
            "\u001b[0;31m---------------------------------------------------------------------------\u001b[0m",
            "\u001b[0;31mKeyboardInterrupt\u001b[0m                         Traceback (most recent call last)",
            "\u001b[0;32m<ipython-input-15-5b5e8f3b8734>\u001b[0m in \u001b[0;36m<cell line: 7>\u001b[0;34m()\u001b[0m\n\u001b[1;32m     16\u001b[0m \u001b[0;34m\u001b[0m\u001b[0m\n\u001b[1;32m     17\u001b[0m         \u001b[0;31m# Wait for 1 minute before fetching data again\u001b[0m\u001b[0;34m\u001b[0m\u001b[0;34m\u001b[0m\u001b[0m\n\u001b[0;32m---> 18\u001b[0;31m         \u001b[0mtime\u001b[0m\u001b[0;34m.\u001b[0m\u001b[0msleep\u001b[0m\u001b[0;34m(\u001b[0m\u001b[0;36m60\u001b[0m\u001b[0;34m)\u001b[0m\u001b[0;34m\u001b[0m\u001b[0;34m\u001b[0m\u001b[0m\n\u001b[0m\u001b[1;32m     19\u001b[0m     \u001b[0;32mexcept\u001b[0m \u001b[0mException\u001b[0m \u001b[0;32mas\u001b[0m \u001b[0me\u001b[0m\u001b[0;34m:\u001b[0m\u001b[0;34m\u001b[0m\u001b[0;34m\u001b[0m\u001b[0m\n\u001b[1;32m     20\u001b[0m         \u001b[0mprint\u001b[0m\u001b[0;34m(\u001b[0m\u001b[0;34m\"An error occurred:\"\u001b[0m\u001b[0;34m,\u001b[0m \u001b[0me\u001b[0m\u001b[0;34m)\u001b[0m\u001b[0;34m\u001b[0m\u001b[0;34m\u001b[0m\u001b[0m\n",
            "\u001b[0;31mKeyboardInterrupt\u001b[0m: "
          ]
        }
      ]
    },
    {
      "cell_type": "code",
      "source": [
        "import yfinance as yf\n",
        "from datetime import datetime\n",
        "\n",
        "# Define the tickers for S&P 500 and NASDAQ\n",
        "tickers = ['^GSPC']\n",
        "\n",
        "# Define the start date\n",
        "start_date = \"2000-01-01\"  # Adjust as needed\n",
        "\n",
        "# Define the end date as the current date and time\n",
        "end_date = datetime.now().strftime('%Y-%m-%d')\n",
        "\n",
        "# Fetch the data\n",
        "data = yf.download(tickers, start=start_date, end=end_date, interval=\"1d\")\n",
        "\n",
        "# Display the fetched data\n",
        "print(data)\n"
      ],
      "metadata": {
        "colab": {
          "base_uri": "https://localhost:8080/"
        },
        "id": "U6qWFOhwQMNs",
        "outputId": "cd0a7281-6316-4568-f809-d0c67d5f62f8"
      },
      "execution_count": 19,
      "outputs": [
        {
          "output_type": "stream",
          "name": "stderr",
          "text": [
            "\r[*********************100%%**********************]  1 of 1 completed"
          ]
        },
        {
          "output_type": "stream",
          "name": "stdout",
          "text": [
            "                   Open         High          Low        Close    Adj Close  \\\n",
            "Date                                                                          \n",
            "2000-01-03  1469.250000  1478.000000  1438.359985  1455.219971  1455.219971   \n",
            "2000-01-04  1455.219971  1455.219971  1397.430054  1399.420044  1399.420044   \n",
            "2000-01-05  1399.420044  1413.270020  1377.680054  1402.109985  1402.109985   \n",
            "2000-01-06  1402.109985  1411.900024  1392.099976  1403.449951  1403.449951   \n",
            "2000-01-07  1403.449951  1441.469971  1400.729980  1441.469971  1441.469971   \n",
            "...                 ...          ...          ...          ...          ...   \n",
            "2024-03-18  5154.770020  5175.600098  5145.470215  5149.419922  5149.419922   \n",
            "2024-03-19  5139.089844  5180.310059  5131.589844  5178.509766  5178.509766   \n",
            "2024-03-20  5181.689941  5226.189941  5171.549805  5224.620117  5224.620117   \n",
            "2024-03-21  5253.430176  5261.100098  5240.660156  5241.529785  5241.529785   \n",
            "2024-03-22  5242.479980  5246.089844  5229.870117  5234.180176  5234.180176   \n",
            "\n",
            "                Volume  \n",
            "Date                    \n",
            "2000-01-03   931800000  \n",
            "2000-01-04  1009000000  \n",
            "2000-01-05  1085500000  \n",
            "2000-01-06  1092300000  \n",
            "2000-01-07  1225200000  \n",
            "...                ...  \n",
            "2024-03-18  4036220000  \n",
            "2024-03-19  4031760000  \n",
            "2024-03-20  4064850000  \n",
            "2024-03-21  4207730000  \n",
            "2024-03-22  3374700000  \n",
            "\n",
            "[6094 rows x 6 columns]\n"
          ]
        },
        {
          "output_type": "stream",
          "name": "stderr",
          "text": [
            "\n"
          ]
        }
      ]
    },
    {
      "cell_type": "code",
      "source": [
        "#Making Postgresql table in googlecolab\n",
        "\n",
        "!sudo apt update\n",
        "!sudo apt install dirmngr ca-certificates software-properties-common gnupg gnupg2 apt-transport-https curl -y\n",
        "!curl -fSsL https://www.postgresql.org/media/keys/ACCC4CF8.asc | gpg --dearmor | sudo tee /usr/share/keyrings/postgresql.gpg > /dev/null\n",
        "!echo 'deb [arch=amd64,arm64,ppc64el signed-by=/usr/share/keyrings/postgresql.gpg] http://apt.postgresql.org/pub/repos/apt/ jammy-pgdg main' | sudo tee /etc/apt/sources.list.d/pgdg.list\n",
        "!sudo apt update\n",
        "!sudo apt install postgresql-client-15 postgresql-15 -y\n",
        "!sudo service postgresql start"
      ],
      "metadata": {
        "colab": {
          "base_uri": "https://localhost:8080/"
        },
        "id": "VVtS_i7XTnFP",
        "outputId": "0c8cfb06-ea9a-450f-9de9-98cff05943ab"
      },
      "execution_count": 21,
      "outputs": [
        {
          "output_type": "stream",
          "name": "stdout",
          "text": [
            "\u001b[33m\r0% [Working]\u001b[0m\r            \rHit:1 http://archive.ubuntu.com/ubuntu jammy InRelease\n",
            "\u001b[33m\r0% [Waiting for headers] [Waiting for headers] [Waiting for headers] [Connected\u001b[0m\r                                                                               \rGet:2 http://archive.ubuntu.com/ubuntu jammy-updates InRelease [119 kB]\n",
            "\r                                                                               \rGet:3 https://cloud.r-project.org/bin/linux/ubuntu jammy-cran40/ InRelease [3,626 B]\n",
            "\r                                                                               \rGet:4 https://developer.download.nvidia.com/compute/cuda/repos/ubuntu2204/x86_64  InRelease [1,581 B]\n",
            "\u001b[33m\r0% [2 InRelease 15.6 kB/119 kB 13%] [Waiting for headers] [Connected to ppa.lau\u001b[0m\r                                                                               \rGet:5 http://security.ubuntu.com/ubuntu jammy-security InRelease [110 kB]\n",
            "Hit:6 http://archive.ubuntu.com/ubuntu jammy-backports InRelease\n",
            "Hit:7 https://ppa.launchpadcontent.net/c2d4u.team/c2d4u4.0+/ubuntu jammy InRelease\n",
            "Hit:8 https://ppa.launchpadcontent.net/deadsnakes/ppa/ubuntu jammy InRelease\n",
            "Hit:9 https://ppa.launchpadcontent.net/graphics-drivers/ppa/ubuntu jammy InRelease\n",
            "Get:10 https://developer.download.nvidia.com/compute/cuda/repos/ubuntu2204/x86_64  Packages [773 kB]\n",
            "Hit:11 https://ppa.launchpadcontent.net/ubuntugis/ppa/ubuntu jammy InRelease\n",
            "Get:12 http://archive.ubuntu.com/ubuntu jammy-updates/main amd64 Packages [1,898 kB]\n",
            "Get:13 http://archive.ubuntu.com/ubuntu jammy-updates/universe amd64 Packages [1,356 kB]\n",
            "Fetched 4,261 kB in 2s (1,831 kB/s)\n",
            "Reading package lists... Done\n",
            "Building dependency tree... Done\n",
            "Reading state information... Done\n",
            "39 packages can be upgraded. Run 'apt list --upgradable' to see them.\n",
            "Reading package lists... Done\n",
            "Building dependency tree... Done\n",
            "Reading state information... Done\n",
            "ca-certificates is already the newest version (20230311ubuntu0.22.04.1).\n",
            "curl is already the newest version (7.81.0-1ubuntu1.15).\n",
            "dirmngr is already the newest version (2.2.27-3ubuntu2.1).\n",
            "gnupg is already the newest version (2.2.27-3ubuntu2.1).\n",
            "gnupg set to manually installed.\n",
            "software-properties-common is already the newest version (0.99.22.9).\n",
            "gnupg2 is already the newest version (2.2.27-3ubuntu2.1).\n",
            "The following NEW packages will be installed:\n",
            "  apt-transport-https\n",
            "0 upgraded, 1 newly installed, 0 to remove and 39 not upgraded.\n",
            "Need to get 1,510 B of archives.\n",
            "After this operation, 170 kB of additional disk space will be used.\n",
            "Get:1 http://archive.ubuntu.com/ubuntu jammy-updates/universe amd64 apt-transport-https all 2.4.11 [1,510 B]\n",
            "Fetched 1,510 B in 0s (24.9 kB/s)\n",
            "debconf: unable to initialize frontend: Dialog\n",
            "debconf: (No usable dialog-like program is installed, so the dialog based frontend cannot be used. at /usr/share/perl5/Debconf/FrontEnd/Dialog.pm line 78, <> line 1.)\n",
            "debconf: falling back to frontend: Readline\n",
            "debconf: unable to initialize frontend: Readline\n",
            "debconf: (This frontend requires a controlling tty.)\n",
            "debconf: falling back to frontend: Teletype\n",
            "dpkg-preconfigure: unable to re-open stdin: \n",
            "Selecting previously unselected package apt-transport-https.\n",
            "(Reading database ... 121753 files and directories currently installed.)\n",
            "Preparing to unpack .../apt-transport-https_2.4.11_all.deb ...\n",
            "Unpacking apt-transport-https (2.4.11) ...\n",
            "Setting up apt-transport-https (2.4.11) ...\n",
            "deb [arch=amd64,arm64,ppc64el signed-by=/usr/share/keyrings/postgresql.gpg] http://apt.postgresql.org/pub/repos/apt/ jammy-pgdg main\n",
            "Hit:1 http://archive.ubuntu.com/ubuntu jammy InRelease\n",
            "Hit:2 http://archive.ubuntu.com/ubuntu jammy-updates InRelease\n",
            "Hit:3 http://archive.ubuntu.com/ubuntu jammy-backports InRelease\n",
            "Hit:4 https://cloud.r-project.org/bin/linux/ubuntu jammy-cran40/ InRelease\n",
            "Hit:5 https://developer.download.nvidia.com/compute/cuda/repos/ubuntu2204/x86_64  InRelease\n",
            "Hit:6 http://security.ubuntu.com/ubuntu jammy-security InRelease\n",
            "Get:7 http://apt.postgresql.org/pub/repos/apt jammy-pgdg InRelease [123 kB]\n",
            "Hit:8 https://ppa.launchpadcontent.net/c2d4u.team/c2d4u4.0+/ubuntu jammy InRelease\n",
            "Hit:9 https://ppa.launchpadcontent.net/deadsnakes/ppa/ubuntu jammy InRelease\n",
            "Hit:10 https://ppa.launchpadcontent.net/graphics-drivers/ppa/ubuntu jammy InRelease\n",
            "Hit:11 https://ppa.launchpadcontent.net/ubuntugis/ppa/ubuntu jammy InRelease\n",
            "Get:12 http://apt.postgresql.org/pub/repos/apt jammy-pgdg/main arm64 Packages [485 kB]\n",
            "Get:13 http://apt.postgresql.org/pub/repos/apt jammy-pgdg/main ppc64el Packages [488 kB]\n",
            "Get:14 http://apt.postgresql.org/pub/repos/apt jammy-pgdg/main amd64 Packages [492 kB]\n",
            "Fetched 1,589 kB in 2s (882 kB/s)\n",
            "Reading package lists... Done\n",
            "Building dependency tree... Done\n",
            "Reading state information... Done\n",
            "41 packages can be upgraded. Run 'apt list --upgradable' to see them.\n",
            "Reading package lists... Done\n",
            "Building dependency tree... Done\n",
            "Reading state information... Done\n",
            "The following additional packages will be installed:\n",
            "  libcommon-sense-perl libjson-perl libjson-xs-perl libpq-dev libpq5\n",
            "  libtypes-serialiser-perl logrotate netbase postgresql-client-common\n",
            "  postgresql-common ssl-cert sysstat\n",
            "Suggested packages:\n",
            "  postgresql-doc-16 bsd-mailx | mailx postgresql-doc-15 isag\n",
            "The following NEW packages will be installed:\n",
            "  libcommon-sense-perl libjson-perl libjson-xs-perl libtypes-serialiser-perl\n",
            "  logrotate netbase postgresql-15 postgresql-client-15\n",
            "  postgresql-client-common postgresql-common ssl-cert sysstat\n",
            "The following packages will be upgraded:\n",
            "  libpq-dev libpq5\n",
            "2 upgraded, 12 newly installed, 0 to remove and 39 not upgraded.\n",
            "Need to get 20.2 MB of archives.\n",
            "After this operation, 66.4 MB of additional disk space will be used.\n",
            "Get:1 http://archive.ubuntu.com/ubuntu jammy/main amd64 libjson-perl all 4.04000-1 [81.8 kB]\n",
            "Get:2 http://archive.ubuntu.com/ubuntu jammy/main amd64 netbase all 6.3 [12.9 kB]\n",
            "Get:3 http://archive.ubuntu.com/ubuntu jammy/main amd64 ssl-cert all 1.1.2 [17.4 kB]\n",
            "Get:4 http://archive.ubuntu.com/ubuntu jammy-updates/main amd64 logrotate amd64 3.19.0-1ubuntu1.1 [54.3 kB]\n",
            "Get:5 http://archive.ubuntu.com/ubuntu jammy/main amd64 libcommon-sense-perl amd64 3.75-2build1 [21.1 kB]\n",
            "Get:6 http://archive.ubuntu.com/ubuntu jammy/main amd64 libtypes-serialiser-perl all 1.01-1 [11.6 kB]\n",
            "Get:7 http://archive.ubuntu.com/ubuntu jammy/main amd64 libjson-xs-perl amd64 4.030-1build3 [87.2 kB]\n",
            "Get:8 http://archive.ubuntu.com/ubuntu jammy-updates/main amd64 sysstat amd64 12.5.2-2ubuntu0.2 [487 kB]\n",
            "Get:9 http://apt.postgresql.org/pub/repos/apt jammy-pgdg/main amd64 postgresql-client-common all 257.pgdg22.04+1 [94.3 kB]\n",
            "Get:10 http://apt.postgresql.org/pub/repos/apt jammy-pgdg/main amd64 postgresql-common all 257.pgdg22.04+1 [239 kB]\n",
            "Get:11 http://apt.postgresql.org/pub/repos/apt jammy-pgdg/main amd64 libpq-dev amd64 16.2-1.pgdg22.04+1 [142 kB]\n",
            "Get:12 http://apt.postgresql.org/pub/repos/apt jammy-pgdg/main amd64 libpq5 amd64 16.2-1.pgdg22.04+1 [214 kB]\n",
            "Get:13 http://apt.postgresql.org/pub/repos/apt jammy-pgdg/main amd64 postgresql-client-15 amd64 15.6-1.pgdg22.04+1 [1,686 kB]\n",
            "Get:14 http://apt.postgresql.org/pub/repos/apt jammy-pgdg/main amd64 postgresql-15 amd64 15.6-1.pgdg22.04+1 [17.1 MB]\n",
            "Fetched 20.2 MB in 2s (9,462 kB/s)\n",
            "debconf: unable to initialize frontend: Dialog\n",
            "debconf: (No usable dialog-like program is installed, so the dialog based frontend cannot be used. at /usr/share/perl5/Debconf/FrontEnd/Dialog.pm line 78, <> line 14.)\n",
            "debconf: falling back to frontend: Readline\n",
            "debconf: unable to initialize frontend: Readline\n",
            "debconf: (This frontend requires a controlling tty.)\n",
            "debconf: falling back to frontend: Teletype\n",
            "dpkg-preconfigure: unable to re-open stdin: \n",
            "Selecting previously unselected package libjson-perl.\n",
            "(Reading database ... 121757 files and directories currently installed.)\n",
            "Preparing to unpack .../00-libjson-perl_4.04000-1_all.deb ...\n",
            "Unpacking libjson-perl (4.04000-1) ...\n",
            "Selecting previously unselected package netbase.\n",
            "Preparing to unpack .../01-netbase_6.3_all.deb ...\n",
            "Unpacking netbase (6.3) ...\n",
            "Selecting previously unselected package postgresql-client-common.\n",
            "Preparing to unpack .../02-postgresql-client-common_257.pgdg22.04+1_all.deb ...\n",
            "Unpacking postgresql-client-common (257.pgdg22.04+1) ...\n",
            "Selecting previously unselected package ssl-cert.\n",
            "Preparing to unpack .../03-ssl-cert_1.1.2_all.deb ...\n",
            "Unpacking ssl-cert (1.1.2) ...\n",
            "Selecting previously unselected package postgresql-common.\n",
            "Preparing to unpack .../04-postgresql-common_257.pgdg22.04+1_all.deb ...\n",
            "Adding 'diversion of /usr/bin/pg_config to /usr/bin/pg_config.libpq-dev by postgresql-common'\n",
            "Unpacking postgresql-common (257.pgdg22.04+1) ...\n",
            "Selecting previously unselected package logrotate.\n",
            "Preparing to unpack .../05-logrotate_3.19.0-1ubuntu1.1_amd64.deb ...\n",
            "Unpacking logrotate (3.19.0-1ubuntu1.1) ...\n",
            "Selecting previously unselected package libcommon-sense-perl:amd64.\n",
            "Preparing to unpack .../06-libcommon-sense-perl_3.75-2build1_amd64.deb ...\n",
            "Unpacking libcommon-sense-perl:amd64 (3.75-2build1) ...\n",
            "Selecting previously unselected package libtypes-serialiser-perl.\n",
            "Preparing to unpack .../07-libtypes-serialiser-perl_1.01-1_all.deb ...\n",
            "Unpacking libtypes-serialiser-perl (1.01-1) ...\n",
            "Selecting previously unselected package libjson-xs-perl.\n",
            "Preparing to unpack .../08-libjson-xs-perl_4.030-1build3_amd64.deb ...\n",
            "Unpacking libjson-xs-perl (4.030-1build3) ...\n",
            "Preparing to unpack .../09-libpq-dev_16.2-1.pgdg22.04+1_amd64.deb ...\n",
            "Unpacking libpq-dev (16.2-1.pgdg22.04+1) over (14.11-0ubuntu0.22.04.1) ...\n",
            "Preparing to unpack .../10-libpq5_16.2-1.pgdg22.04+1_amd64.deb ...\n",
            "Unpacking libpq5:amd64 (16.2-1.pgdg22.04+1) over (14.11-0ubuntu0.22.04.1) ...\n",
            "Selecting previously unselected package postgresql-client-15.\n",
            "Preparing to unpack .../11-postgresql-client-15_15.6-1.pgdg22.04+1_amd64.deb ...\n",
            "Unpacking postgresql-client-15 (15.6-1.pgdg22.04+1) ...\n",
            "Selecting previously unselected package postgresql-15.\n",
            "Preparing to unpack .../12-postgresql-15_15.6-1.pgdg22.04+1_amd64.deb ...\n",
            "Unpacking postgresql-15 (15.6-1.pgdg22.04+1) ...\n",
            "Selecting previously unselected package sysstat.\n",
            "Preparing to unpack .../13-sysstat_12.5.2-2ubuntu0.2_amd64.deb ...\n",
            "Unpacking sysstat (12.5.2-2ubuntu0.2) ...\n",
            "Setting up logrotate (3.19.0-1ubuntu1.1) ...\n",
            "Created symlink /etc/systemd/system/timers.target.wants/logrotate.timer → /lib/systemd/system/logrotate.timer.\n",
            "Setting up libpq5:amd64 (16.2-1.pgdg22.04+1) ...\n",
            "Setting up libcommon-sense-perl:amd64 (3.75-2build1) ...\n",
            "Setting up libpq-dev (16.2-1.pgdg22.04+1) ...\n",
            "Setting up ssl-cert (1.1.2) ...\n",
            "debconf: unable to initialize frontend: Dialog\n",
            "debconf: (No usable dialog-like program is installed, so the dialog based frontend cannot be used. at /usr/share/perl5/Debconf/FrontEnd/Dialog.pm line 78.)\n",
            "debconf: falling back to frontend: Readline\n",
            "Setting up libtypes-serialiser-perl (1.01-1) ...\n",
            "Setting up libjson-perl (4.04000-1) ...\n",
            "Setting up netbase (6.3) ...\n",
            "Setting up sysstat (12.5.2-2ubuntu0.2) ...\n",
            "debconf: unable to initialize frontend: Dialog\n",
            "debconf: (No usable dialog-like program is installed, so the dialog based frontend cannot be used. at /usr/share/perl5/Debconf/FrontEnd/Dialog.pm line 78.)\n",
            "debconf: falling back to frontend: Readline\n",
            "\n",
            "Creating config file /etc/default/sysstat with new version\n",
            "update-alternatives: using /usr/bin/sar.sysstat to provide /usr/bin/sar (sar) in auto mode\n",
            "Created symlink /etc/systemd/system/sysstat.service.wants/sysstat-collect.timer → /lib/systemd/system/sysstat-collect.timer.\n",
            "Created symlink /etc/systemd/system/sysstat.service.wants/sysstat-summary.timer → /lib/systemd/system/sysstat-summary.timer.\n",
            "Created symlink /etc/systemd/system/multi-user.target.wants/sysstat.service → /lib/systemd/system/sysstat.service.\n",
            "Setting up postgresql-client-common (257.pgdg22.04+1) ...\n",
            "Setting up libjson-xs-perl (4.030-1build3) ...\n",
            "Setting up postgresql-client-15 (15.6-1.pgdg22.04+1) ...\n",
            "update-alternatives: using /usr/share/postgresql/15/man/man1/psql.1.gz to provide /usr/share/man/man1/psql.1.gz (psql.1.gz) in auto mode\n",
            "Setting up postgresql-common (257.pgdg22.04+1) ...\n",
            "debconf: unable to initialize frontend: Dialog\n",
            "debconf: (No usable dialog-like program is installed, so the dialog based frontend cannot be used. at /usr/share/perl5/Debconf/FrontEnd/Dialog.pm line 78.)\n",
            "debconf: falling back to frontend: Readline\n",
            "Adding user postgres to group ssl-cert\n",
            "\n",
            "Creating config file /etc/postgresql-common/createcluster.conf with new version\n",
            "Building PostgreSQL dictionaries from installed myspell/hunspell packages...\n",
            "Removing obsolete dictionary files:\n",
            "invoke-rc.d: could not determine current runlevel\n",
            "invoke-rc.d: policy-rc.d denied execution of start.\n",
            "Created symlink /etc/systemd/system/multi-user.target.wants/postgresql.service → /lib/systemd/system/postgresql.service.\n",
            "Setting up postgresql-15 (15.6-1.pgdg22.04+1) ...\n",
            "debconf: unable to initialize frontend: Dialog\n",
            "debconf: (No usable dialog-like program is installed, so the dialog based frontend cannot be used. at /usr/share/perl5/Debconf/FrontEnd/Dialog.pm line 78.)\n",
            "debconf: falling back to frontend: Readline\n",
            "Creating new PostgreSQL cluster 15/main ...\n",
            "/usr/lib/postgresql/15/bin/initdb -D /var/lib/postgresql/15/main --auth-local peer --auth-host scram-sha-256 --no-instructions\n",
            "The files belonging to this database system will be owned by user \"postgres\".\n",
            "This user must also own the server process.\n",
            "\n",
            "The database cluster will be initialized with locale \"en_US.UTF-8\".\n",
            "The default database encoding has accordingly been set to \"UTF8\".\n",
            "The default text search configuration will be set to \"english\".\n",
            "\n",
            "Data page checksums are disabled.\n",
            "\n",
            "fixing permissions on existing directory /var/lib/postgresql/15/main ... ok\n",
            "creating subdirectories ... ok\n",
            "selecting dynamic shared memory implementation ... posix\n",
            "selecting default max_connections ... 100\n",
            "selecting default shared_buffers ... 128MB\n",
            "selecting default time zone ... Etc/UTC\n",
            "creating configuration files ... ok\n",
            "running bootstrap script ... ok\n",
            "performing post-bootstrap initialization ... ok\n",
            "syncing data to disk ... ok\n",
            "invoke-rc.d: could not determine current runlevel\n",
            "invoke-rc.d: policy-rc.d denied execution of start.\n",
            "Processing triggers for man-db (2.10.2-1) ...\n",
            "Processing triggers for libc-bin (2.35-0ubuntu3.4) ...\n",
            "/sbin/ldconfig.real: /usr/local/lib/libtbbmalloc.so.2 is not a symbolic link\n",
            "\n",
            "/sbin/ldconfig.real: /usr/local/lib/libtbbbind.so.3 is not a symbolic link\n",
            "\n",
            "/sbin/ldconfig.real: /usr/local/lib/libtbbbind_2_5.so.3 is not a symbolic link\n",
            "\n",
            "/sbin/ldconfig.real: /usr/local/lib/libtbb.so.12 is not a symbolic link\n",
            "\n",
            "/sbin/ldconfig.real: /usr/local/lib/libtbbmalloc_proxy.so.2 is not a symbolic link\n",
            "\n",
            "/sbin/ldconfig.real: /usr/local/lib/libtbbbind_2_0.so.3 is not a symbolic link\n",
            "\n",
            " * Starting PostgreSQL 15 database server\n",
            "   ...done.\n"
          ]
        }
      ]
    },
    {
      "cell_type": "code",
      "source": [
        "# !sudo -u postgres psql -U postgres -c \"CREATE ROLE root WITH SUPERUSER;\"\n",
        "# !sudo -u postgres psql -U postgres -c \"ALTER ROLE root WITH LOGIN;\"\n",
        "# !sudo -u postgres psql -U postgres -c \"CREATE ROLE database WITH PASSWORD 'postgres';\"\n",
        "#!sudo -u postgres psql -c \"ALTER USER postgres PASSWORD 'postgres'\"\n",
        "\n",
        "\n",
        "#!sudo -u postgres psql -U postgres -c \"create database realtime_storage\""
      ],
      "metadata": {
        "colab": {
          "base_uri": "https://localhost:8080/"
        },
        "id": "19jIaF4YTnSm",
        "outputId": "2413c575-245c-491f-9b29-200f38ada97e"
      },
      "execution_count": 29,
      "outputs": [
        {
          "output_type": "stream",
          "name": "stdout",
          "text": [
            "CREATE DATABASE\n"
          ]
        }
      ]
    },
    {
      "cell_type": "code",
      "source": [
        "import psycopg2\n",
        "dbname = 'realtime_storage'\n",
        "user = 'postgres'\n",
        "password = 'postgres'\n",
        "host = 'localhost'  # This is typically in the format \"ip_address:port\" or the Cloud SQL connection name\n",
        "port = '5432'\n",
        "conn = psycopg2.connect(dbname=dbname, user=user, password=password, host=host, port=port)\n",
        "cur = conn.cursor()\n",
        "create_historic_table_query = \"\"\"\n",
        "CREATE TABLE historic_SP500 (\n",
        "    id SERIAL PRIMARY KEY,\n",
        "    timestamp TIMESTAMP NOT NULL,\n",
        "    open_price NUMERIC NOT NULL,\n",
        "    high_price NUMERIC NOT NULL,\n",
        "    low_price NUMERIC NOT NULL,\n",
        "    close_price NUMERIC NOT NULL,\n",
        "    adj_close_price NUMERIC NOT NULL,\n",
        "    volume NUMERIC NOT NULL\n",
        ");\n",
        "\"\"\"\n",
        "\n",
        "create_realtime_table_query = \"\"\"\n",
        "CREATE TABLE realtime_SP500 (\n",
        "    id SERIAL PRIMARY KEY,\n",
        "    timestamp TIMESTAMP NOT NULL,\n",
        "    open_price NUMERIC NOT NULL,\n",
        "    high_price NUMERIC NOT NULL,\n",
        "    low_price NUMERIC NOT NULL,\n",
        "    close_price NUMERIC NOT NULL,\n",
        "    adj_close_price NUMERIC NOT NULL,\n",
        "    volume NUMERIC NOT NULL\n",
        ");\n",
        "\"\"\"\n",
        "\n",
        "cur.execute(create_historic_table_query)\n",
        "cur.execute(create_realtime_table_query)\n",
        "conn.commit()\n",
        "cur.close()\n",
        "conn.close()\n"
      ],
      "metadata": {
        "id": "IePyxq0uXIe3"
      },
      "execution_count": 32,
      "outputs": []
    },
    {
      "cell_type": "code",
      "source": [
        "import yfinance as yf\n",
        "import psycopg2\n",
        "from datetime import datetime\n",
        "import time\n",
        "\n",
        "#connection Param\n",
        "dbname = 'realtime_storage'\n",
        "user = 'postgres'\n",
        "password = 'postgres'\n",
        "host = 'localhost'\n",
        "port = '5432'\n",
        "\n",
        "# Connect to the Postgre\n",
        "conn = psycopg2.connect(dbname=dbname, user=user, password=password, host=host, port=port)\n",
        "\n",
        "# Define function to insert data into SP500_realtime table\n",
        "def insert_realtime_data(timestamp, open_price, high_price, low_price, close_price, adj_close_price, volume):\n",
        "    cursor = conn.cursor()\n",
        "    cursor.execute(\"INSERT INTO realtime_SP500 (timestamp, open_price, high_price, low_price, close_price, adj_close_price, volume) VALUES (%s, %s, %s, %s, %s, %s, %s)\",\n",
        "                   (timestamp, open_price, high_price, low_price, close_price, adj_close_price, volume))\n",
        "    conn.commit()\n",
        "    cursor.close()\n",
        "\n",
        "# Define the function to fetch and store real-time data\n",
        "def fetch_and_store_realtime_data():\n",
        "    try:\n",
        "        # Fetch the latest data for the S&P 500\n",
        "        sp500_data = yf.download('^GSPC', period=\"1d\", interval=\"1m\")\n",
        "\n",
        "        # Extract the latest row\n",
        "        latest_row = sp500_data.iloc[-1]\n",
        "\n",
        "        # Extract the timestamp and prices\n",
        "        timestamp = latest_row.name\n",
        "        open_price = latest_row['Open']\n",
        "        high_price = latest_row['High']\n",
        "        low_price = latest_row['Low']\n",
        "        close_price = latest_row['Close']\n",
        "        adj_close_price = latest_row['Adj Close']\n",
        "        volume = latest_row['Volume']\n",
        "\n",
        "        # Insert data into realtime_SP500 table\n",
        "        insert_realtime_data(timestamp, open_price, high_price, low_price, close_price, adj_close_price, volume)\n",
        "\n",
        "    except Exception as e:\n",
        "        print(\"An error occurred:\", e)\n",
        "\n",
        "# Continuously fetch and store real-time data\n",
        "while True:\n",
        "    fetch_and_store_realtime_data()\n",
        "    # Wait for 1 minute before fetching data again\n",
        "    time.sleep(60)\n"
      ],
      "metadata": {
        "colab": {
          "base_uri": "https://localhost:8080/",
          "height": 255
        },
        "id": "rWGl4fIBTlOw",
        "outputId": "1608c6eb-173c-4cb9-8ccd-bb3f2133822e"
      },
      "execution_count": 36,
      "outputs": [
        {
          "output_type": "stream",
          "name": "stderr",
          "text": [
            "[*********************100%%**********************]  1 of 1 completed\n",
            "[*********************100%%**********************]  1 of 1 completed\n",
            "[*********************100%%**********************]  1 of 1 completed\n",
            "[*********************100%%**********************]  1 of 1 completed\n"
          ]
        },
        {
          "output_type": "error",
          "ename": "KeyboardInterrupt",
          "evalue": "",
          "traceback": [
            "\u001b[0;31m---------------------------------------------------------------------------\u001b[0m",
            "\u001b[0;31mKeyboardInterrupt\u001b[0m                         Traceback (most recent call last)",
            "\u001b[0;32m<ipython-input-36-2d0b1e946e23>\u001b[0m in \u001b[0;36m<cell line: 49>\u001b[0;34m()\u001b[0m\n\u001b[1;32m     50\u001b[0m     \u001b[0mfetch_and_store_realtime_data\u001b[0m\u001b[0;34m(\u001b[0m\u001b[0;34m)\u001b[0m\u001b[0;34m\u001b[0m\u001b[0;34m\u001b[0m\u001b[0m\n\u001b[1;32m     51\u001b[0m     \u001b[0;31m# Wait for 1 minute before fetching data again\u001b[0m\u001b[0;34m\u001b[0m\u001b[0;34m\u001b[0m\u001b[0m\n\u001b[0;32m---> 52\u001b[0;31m     \u001b[0mtime\u001b[0m\u001b[0;34m.\u001b[0m\u001b[0msleep\u001b[0m\u001b[0;34m(\u001b[0m\u001b[0;36m60\u001b[0m\u001b[0;34m)\u001b[0m\u001b[0;34m\u001b[0m\u001b[0;34m\u001b[0m\u001b[0m\n\u001b[0m",
            "\u001b[0;31mKeyboardInterrupt\u001b[0m: "
          ]
        }
      ]
    },
    {
      "cell_type": "code",
      "source": [
        "import psycopg2\n",
        "\n",
        "# Set up connection parameters\n",
        "dbname = 'realtime_storage'\n",
        "user = 'postgres'\n",
        "password = 'postgres'\n",
        "host = 'localhost'\n",
        "port = '5432'\n",
        "\n",
        "# Connect to the PostgreSQL database\n",
        "conn = psycopg2.connect(dbname=dbname, user=user, password=password, host=host, port=port)\n",
        "\n",
        "# Create a cursor\n",
        "cur = conn.cursor()\n",
        "\n",
        "# Define SQL queries to fetch data from tables\n",
        "select_historic_query = \"SELECT * FROM historic_SP500\"\n",
        "select_realtime_query = \"SELECT * FROM realtime_SP500\"\n",
        "\n",
        "# Execute the SQL queries\n",
        "cur.execute(select_historic_query)\n",
        "historic_data = cur.fetchall()\n",
        "\n",
        "cur.execute(select_realtime_query)\n",
        "realtime_data = cur.fetchall()\n",
        "\n",
        "# Print the results\n",
        "print(\"Historic SP500 Data:\")\n",
        "for row in historic_data:\n",
        "    print(row)\n",
        "\n",
        "print(\"\\nRealtime SP500 Data:\")\n",
        "for row in realtime_data:\n",
        "    print(row)\n",
        "\n",
        "# Close the cursor and connection\n",
        "cur.close()\n",
        "conn.close()\n"
      ],
      "metadata": {
        "colab": {
          "base_uri": "https://localhost:8080/"
        },
        "id": "wABL75TlZlt9",
        "outputId": "574e3d42-d213-4991-944f-1cb7c133c47f"
      },
      "execution_count": 37,
      "outputs": [
        {
          "output_type": "stream",
          "name": "stdout",
          "text": [
            "Historic SP500 Data:\n",
            "\n",
            "Realtime SP500 Data:\n",
            "(1, datetime.datetime(2024, 3, 22, 19, 59), Decimal('5239.22021484375'), Decimal('5239.22021484375'), Decimal('5233.85986328125'), Decimal('5234.27001953125'), Decimal('5234.27001953125'), Decimal('52219000.0'))\n",
            "(2, datetime.datetime(2024, 3, 22, 19, 59), Decimal('5239.22021484375'), Decimal('5239.22021484375'), Decimal('5233.85986328125'), Decimal('5234.27001953125'), Decimal('5234.27001953125'), Decimal('52219000.0'))\n",
            "(3, datetime.datetime(2024, 3, 22, 19, 59), Decimal('5239.22021484375'), Decimal('5239.22021484375'), Decimal('5233.85986328125'), Decimal('5234.27001953125'), Decimal('5234.27001953125'), Decimal('52219000.0'))\n",
            "(4, datetime.datetime(2024, 3, 22, 19, 59), Decimal('5239.22021484375'), Decimal('5239.22021484375'), Decimal('5233.85986328125'), Decimal('5234.27001953125'), Decimal('5234.27001953125'), Decimal('52219000.0'))\n",
            "(5, datetime.datetime(2024, 3, 22, 19, 59), Decimal('5239.22021484375'), Decimal('5239.22021484375'), Decimal('5233.85986328125'), Decimal('5234.27001953125'), Decimal('5234.27001953125'), Decimal('52219000.0'))\n",
            "(6, datetime.datetime(2024, 3, 22, 19, 59), Decimal('5239.22021484375'), Decimal('5239.22021484375'), Decimal('5233.85986328125'), Decimal('5234.27001953125'), Decimal('5234.27001953125'), Decimal('52219000.0'))\n"
          ]
        }
      ]
    }
  ]
}